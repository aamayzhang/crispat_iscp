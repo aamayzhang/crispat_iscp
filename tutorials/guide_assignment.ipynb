{
 "cells": [
  {
   "cell_type": "code",
   "execution_count": 1,
   "id": "89ba9c48",
   "metadata": {},
   "outputs": [],
   "source": [
    "import crispat\n",
    "import pandas as pd\n",
    "import anndata as ad\n",
    "import scanpy as sc\n",
    "import warnings\n",
    "import matplotlib.pyplot as plt\n",
    "import seaborn as sns "
   ]
  },
  {
   "cell_type": "code",
   "execution_count": 2,
   "id": "ea6d6a3f",
   "metadata": {},
   "outputs": [],
   "source": [
    "data_dir = '../example_data/'"
   ]
  },
  {
   "cell_type": "markdown",
   "id": "73974629",
   "metadata": {},
   "source": [
    "# Prepare data for guide assignment\n",
    "To apply one of the 11 guide assignment functions of the crispat package, we first have to create and save an AnnData object containing the gRNA counts for all cells. Depending on the format of your input data, this can either be done by using one of our import functions or for more customizability directly using the `anndata` package. In our package, we provide two functions that either read in cellranger output (`create_anndata_from_cellranger`) or a csv file with the gRNA-cell matrix (`create_anndata_from_csv`) to create the .h5ad file. If creating an AnnData object yourself, make sure to add a `batch` column to adata.obs even if you only have one batch (use same value for all cells in this case). "
   ]
  },
  {
   "cell_type": "markdown",
   "id": "5cf6bd8e",
   "metadata": {},
   "source": [
    "## Version 1: create AnnData object from cellranger output \n",
    "\n",
    "To use this function, the `input_dir` should contain one folder per batch (called batch1, batch2 etc.) that contain the barcodes.tsv.gz, features.tsv.gz and matrix.mtx.gz files obtained from cellranger count."
   ]
  },
  {
   "cell_type": "raw",
   "id": "92499ac2",
   "metadata": {},
   "source": [
    "crispat.create_anndata_from_cellranger([1,2], data_dir + 'Replogle/', data_dir + 'Replogle/')"
   ]
  },
  {
   "cell_type": "markdown",
   "id": "eb1e0a40",
   "metadata": {},
   "source": [
    "## Version 2: create AnnData object from a csv file containing the gRNA count matrix \n",
    "\n",
    "The input csv file for the `create_anndata_from_csv` function should look like this: first column contains gRNA names, remaining columns gRNA counts per cell. The function is designed for screens that only contain one experimental batch. "
   ]
  },
  {
   "cell_type": "code",
   "execution_count": 3,
   "id": "4e65cbaa",
   "metadata": {},
   "outputs": [
    {
     "data": {
      "text/html": [
       "<div>\n",
       "<style scoped>\n",
       "    .dataframe tbody tr th:only-of-type {\n",
       "        vertical-align: middle;\n",
       "    }\n",
       "\n",
       "    .dataframe tbody tr th {\n",
       "        vertical-align: top;\n",
       "    }\n",
       "\n",
       "    .dataframe thead th {\n",
       "        text-align: right;\n",
       "    }\n",
       "</style>\n",
       "<table border=\"1\" class=\"dataframe\">\n",
       "  <thead>\n",
       "    <tr style=\"text-align: right;\">\n",
       "      <th></th>\n",
       "      <th>gRNA</th>\n",
       "      <th>TAP1-AAACCTGAGCCTATGT</th>\n",
       "      <th>TAP1-AAACCTGAGGCGTACA</th>\n",
       "      <th>TAP1-AAACCTGAGGGCTTGA</th>\n",
       "      <th>TAP1-AAACCTGAGGGTGTTG</th>\n",
       "    </tr>\n",
       "  </thead>\n",
       "  <tbody>\n",
       "    <tr>\n",
       "      <th>0</th>\n",
       "      <td>CROPseq_dCas9_DS_CCNE2_+_95907328.23-P1P2</td>\n",
       "      <td>0</td>\n",
       "      <td>0</td>\n",
       "      <td>0</td>\n",
       "      <td>0</td>\n",
       "    </tr>\n",
       "    <tr>\n",
       "      <th>1</th>\n",
       "      <td>CROPseq_dCas9_DS_CCNE2_+_95907382.23-P1P2</td>\n",
       "      <td>0</td>\n",
       "      <td>0</td>\n",
       "      <td>0</td>\n",
       "      <td>0</td>\n",
       "    </tr>\n",
       "    <tr>\n",
       "      <th>2</th>\n",
       "      <td>CROPseq_dCas9_DS_CCNE2_+_95907406.23-P1P2</td>\n",
       "      <td>0</td>\n",
       "      <td>0</td>\n",
       "      <td>0</td>\n",
       "      <td>0</td>\n",
       "    </tr>\n",
       "    <tr>\n",
       "      <th>3</th>\n",
       "      <td>CROPseq_dCas9_DS_CCNE2_-_95907017.23-P1P2</td>\n",
       "      <td>0</td>\n",
       "      <td>0</td>\n",
       "      <td>0</td>\n",
       "      <td>0</td>\n",
       "    </tr>\n",
       "    <tr>\n",
       "      <th>4</th>\n",
       "      <td>CROPseq_dCas9_DS_CPQ_+_97657557.23-P1P2</td>\n",
       "      <td>0</td>\n",
       "      <td>26</td>\n",
       "      <td>0</td>\n",
       "      <td>0</td>\n",
       "    </tr>\n",
       "  </tbody>\n",
       "</table>\n",
       "</div>"
      ],
      "text/plain": [
       "                                        gRNA  TAP1-AAACCTGAGCCTATGT  \\\n",
       "0  CROPseq_dCas9_DS_CCNE2_+_95907328.23-P1P2                      0   \n",
       "1  CROPseq_dCas9_DS_CCNE2_+_95907382.23-P1P2                      0   \n",
       "2  CROPseq_dCas9_DS_CCNE2_+_95907406.23-P1P2                      0   \n",
       "3  CROPseq_dCas9_DS_CCNE2_-_95907017.23-P1P2                      0   \n",
       "4    CROPseq_dCas9_DS_CPQ_+_97657557.23-P1P2                      0   \n",
       "\n",
       "   TAP1-AAACCTGAGGCGTACA  TAP1-AAACCTGAGGGCTTGA  TAP1-AAACCTGAGGGTGTTG  \n",
       "0                      0                      0                      0  \n",
       "1                      0                      0                      0  \n",
       "2                      0                      0                      0  \n",
       "3                      0                      0                      0  \n",
       "4                     26                      0                      0  "
      ]
     },
     "execution_count": 3,
     "metadata": {},
     "output_type": "execute_result"
    }
   ],
   "source": [
    "# check input_csv format\n",
    "input_csv = pd.read_csv(data_dir + 'Schraivogel/gRNA_counts.csv')\n",
    "input_csv.iloc[0:5, 0:5]"
   ]
  },
  {
   "cell_type": "code",
   "execution_count": 4,
   "id": "bb18dc23",
   "metadata": {},
   "outputs": [
    {
     "name": "stdout",
     "output_type": "stream",
     "text": [
      "Load data\n",
      "Create anndata object\n",
      "Done: AnnData object is saved in ../example_data/Schraivogel/\n"
     ]
    }
   ],
   "source": [
    "crispat.create_anndata_from_csv(data_dir + 'Schraivogel/gRNA_counts.csv', data_dir + 'Schraivogel/')"
   ]
  },
  {
   "cell_type": "code",
   "execution_count": 5,
   "id": "af70dbdc",
   "metadata": {},
   "outputs": [
    {
     "data": {
      "text/plain": [
       "AnnData object with n_obs × n_vars = 21977 × 86\n",
       "    obs: 'batch'"
      ]
     },
     "execution_count": 5,
     "metadata": {},
     "output_type": "execute_result"
    }
   ],
   "source": [
    "# the resulting anndata object that is used as input for all guide assignment methods looks like this\n",
    "ad.read_h5ad(data_dir + 'Schraivogel/gRNA_counts.h5ad')"
   ]
  },
  {
   "cell_type": "markdown",
   "id": "2e041c4d",
   "metadata": {},
   "source": [
    "Short note about the dimensions of the AnnData object: the TAPseq screen from Schraivogel et al. contains 21,977 cells and 86 gRNAs (30 non-targeting and 56 targeting gRNAs for 14 different targets) "
   ]
  },
  {
   "cell_type": "markdown",
   "id": "5dcba217",
   "metadata": {},
   "source": [
    "# Run guide assignment\n",
    "This package contains implementations of 11 different guide assignment methods which we grouped into four main categories based on whether information is shared across gRNAs, cells or both. Details on all functions can be found in our manuscript (link will be added very soon)."
   ]
  },
  {
   "cell_type": "markdown",
   "id": "5761f0c9",
   "metadata": {},
   "source": [
    "## Independent\n",
    "The simplest approach (called `ga_UMI`) is to not share any information across the gRNA-cell matrix and check for each value separately whether it is higher than a fixed threshold. To find a suitable thresholds, a list of thresholds is passed as one argument of the function (UMI threshold of 3, 5 and 7 in the following example)."
   ]
  },
  {
   "cell_type": "code",
   "execution_count": 6,
   "id": "651bf36a",
   "metadata": {},
   "outputs": [
    {
     "name": "stdout",
     "output_type": "stream",
     "text": [
      "Guide assignment with UMI threshold\n",
      "Load gRNA counts\n",
      "Get perturbed cells for each gRNA with UMI threshold = 3\n",
      "Get perturbed cells for each gRNA with UMI threshold = 5\n",
      "Get perturbed cells for each gRNA with UMI threshold = 7\n",
      "Done: outputs are saved in ../example_data/guide_assignments/UMI/\n"
     ]
    }
   ],
   "source": [
    "# Guide assignment with UMI thresholds\n",
    "crispat.ga_umi(data_dir + 'Schraivogel/gRNA_counts.h5ad', [3,5,7], \n",
    "               data_dir + 'guide_assignments/UMI/')"
   ]
  },
  {
   "cell_type": "markdown",
   "id": "779a1257",
   "metadata": {},
   "source": [
    "## Across gRNAs\n",
    "In the next group of methods, information is shared across gRNAs. The simplest approach of this group is to assign for each cell the gRNA with highest counts in this cell (if there is a unique maximum)."
   ]
  },
  {
   "cell_type": "code",
   "execution_count": 7,
   "id": "531b8016",
   "metadata": {},
   "outputs": [
    {
     "name": "stdout",
     "output_type": "stream",
     "text": [
      "Guide assignment with maximum assignment\n",
      "Load gRNA counts\n",
      "Done: outputs are saved in ../example_data/guide_assignments/maximum/\n"
     ]
    }
   ],
   "source": [
    "# Maximum guide assignment \n",
    "crispat.ga_max(data_dir + 'Schraivogel/gRNA_counts.h5ad', \n",
    "               data_dir + 'guide_assignments/maximum/')"
   ]
  },
  {
   "cell_type": "markdown",
   "id": "b9178445",
   "metadata": {},
   "source": [
    "An adaptation of the maximum approach is to only assign the most abundant gRNA per cell if the counts of this gRNA comprise at least a certain percentage X of the total counts of the cell. The list of percentages X to use as ratio_thresholds is provided as an argument of the function."
   ]
  },
  {
   "cell_type": "code",
   "execution_count": 8,
   "id": "7f482f52",
   "metadata": {},
   "outputs": [
    {
     "name": "stdout",
     "output_type": "stream",
     "text": [
      "Guide assignment with ratio assignment\n",
      "Load gRNA counts\n",
      "Done: outputs are saved in ../example_data/guide_assignments/ratios/\n"
     ]
    }
   ],
   "source": [
    "# Guide assignment with ratio thresholds\n",
    "crispat.ga_ratio(data_dir + 'Schraivogel/gRNA_counts.h5ad', [0.3, 0.5, 0.8], \n",
    "                 data_dir + 'guide_assignments/ratios/')"
   ]
  },
  {
   "cell_type": "markdown",
   "id": "76989dc8",
   "metadata": {},
   "source": [
    "## Across cells\n",
    "The next group of methods is performed across cells by fitting a mixture model for each gRNA. `ga_cellranger` is based on the cellranger assignment and fits a Gaussian mixture model to the log10-transformed UMI counts for each batch and gRNA."
   ]
  },
  {
   "cell_type": "code",
   "execution_count": 9,
   "id": "255b3d7e",
   "metadata": {},
   "outputs": [
    {
     "name": "stdout",
     "output_type": "stream",
     "text": [
      "Guide assignment according to cellranger tool\n",
      "Load gRNA counts\n",
      "Fit Gaussian Mixture models for batch 1\n"
     ]
    },
    {
     "name": "stderr",
     "output_type": "stream",
     "text": [
      "/Users/janabraunger/anaconda3/envs/sc/lib/python3.10/site-packages/crispat-0.0.9-py3.10.egg/crispat/cellranger.py:155: RuntimeWarning: invalid value encountered in divide\n",
      "  prob = nominator / denominator\n"
     ]
    },
    {
     "name": "stdout",
     "output_type": "stream",
     "text": [
      "Done: outputs are saved in ../example_data/guide_assignments/cellranger/\n"
     ]
    }
   ],
   "source": [
    "# Guide assignment with Cellranger approach (Gaussian mixture model)\n",
    "crispat.ga_cellranger(data_dir + 'Schraivogel/gRNA_counts.h5ad', \n",
    "                      data_dir + 'guide_assignments/cellranger/', n_iter = 500)"
   ]
  },
  {
   "cell_type": "markdown",
   "id": "47b02564",
   "metadata": {},
   "source": [
    "`ga_poisson_gauss` instead uses a Poisson-Gaussian mixture model on the log2-transformed non-zero UMI counts per gRNA similar to the approach by Replogle et al. (Cell, 2022)."
   ]
  },
  {
   "cell_type": "code",
   "execution_count": 10,
   "id": "6d8de1e6",
   "metadata": {},
   "outputs": [
    {
     "name": "stdout",
     "output_type": "stream",
     "text": [
      "Guide assignment with Poisson-Gaussian mixture model as in Replogle et al.\n",
      "Load gRNA counts\n",
      "Fit Poisson-Gaussian Mixture Model for each gRNA: \n"
     ]
    },
    {
     "name": "stderr",
     "output_type": "stream",
     "text": [
      "100%|███████████████████████████████████████████████████████████████████████████████████████████████████████████████████████████████████████| 86/86 [02:26<00:00,  1.70s/it]"
     ]
    },
    {
     "name": "stdout",
     "output_type": "stream",
     "text": [
      "Done: outputs are saved in ../example_data/guide_assignments/poisson_gauss/\n"
     ]
    },
    {
     "name": "stderr",
     "output_type": "stream",
     "text": [
      "\n"
     ]
    }
   ],
   "source": [
    "# Guide assignment with Poisson-Gaussian mixture model\n",
    "crispat.ga_poisson_gauss(data_dir + 'Schraivogel/gRNA_counts.h5ad', \n",
    "                    data_dir + 'guide_assignments/poisson_gauss/')"
   ]
  },
  {
   "cell_type": "markdown",
   "id": "0aecb199",
   "metadata": {},
   "source": [
    "## Across gRNAs & cells"
   ]
  },
  {
   "cell_type": "markdown",
   "id": "b7ff4512",
   "metadata": {},
   "source": [
    "The following two methods (`ga_2beta` and `ga_3beta`) also use a threshold on the percentages per cell, but learn a threshold for each batch based on the data distribution. In the `ga_2beta` function, a mixture model consisting of two beta distributions is fitted to the distribution of the percentages of the most abundant gRNAs per cell to distinguish the background/noise counts from the counts of actually perturbed cells. The threshold X is determined as the intersection of the densities of the two mixture components. In the `ga_3beta` function, we use a mixture model with 3 components instead of two such that we can additionally model cells that were infected with two gRNAs. Here, the threshold X is chosen as the intersection of the second and third mixture component (numbering them by increasing mean). "
   ]
  },
  {
   "cell_type": "code",
   "execution_count": 11,
   "id": "b577c3c7",
   "metadata": {},
   "outputs": [
    {
     "name": "stdout",
     "output_type": "stream",
     "text": [
      "Guide assignment fitting a mixture model of two beta distributions\n",
      "Load gRNA counts\n",
      "Fit 2-beta mixture model for each batch:\n",
      "Batch  1\n",
      "Done: outputs are saved in ../example_data/guide_assignments/2-BetaMM/\n"
     ]
    }
   ],
   "source": [
    "# Guide assignment with 2-Beta mixture model\n",
    "crispat.ga_2beta(data_dir + 'Schraivogel/gRNA_counts.h5ad',  \n",
    "                 data_dir + 'guide_assignments/2-BetaMM/')"
   ]
  },
  {
   "cell_type": "code",
   "execution_count": 12,
   "id": "49b9ed80",
   "metadata": {},
   "outputs": [
    {
     "name": "stdout",
     "output_type": "stream",
     "text": [
      "Guide assignment fitting a mixture model of three beta distributions\n",
      "Load gRNA counts\n",
      "Fit 3-beta mixture model for each batch:\n",
      "Batch  1\n",
      "Done: outputs are saved in ../example_data/guide_assignments/3-BetaMM/\n"
     ]
    }
   ],
   "source": [
    "# Guide assignment with 3-Beta mixture model\n",
    "crispat.ga_3beta(data_dir + 'Schraivogel/gRNA_counts.h5ad', \n",
    "                 data_dir + 'guide_assignments/3-BetaMM/')"
   ]
  },
  {
   "cell_type": "markdown",
   "id": "987eb9e2",
   "metadata": {},
   "source": [
    "Since `ga_poisson`, `ga_negative_binomial` and `ga_binomial` have the longest run time, these functions automatically are parallelized to run over all available CPUs. If you want to change this default behaviour, you can set `parallelize` to False or specify the number of processes (`n_processes`) that should be used (instead of all available CPUs). For demonstrating the usage of these functions in this notebook, we are only running the guide assignment for the first five gRNAs by using the `start_gRNA` parameter (index of the first gRNA) and the `gRNA_step` paramter which defines the number of gRNAs that are assigned. These parameters can also be used if guide assignment is performed on high performance clusters to submit multiple jobs for distinct gRNA subsets.   \n",
    "\n",
    "In `ga_poisson`, which is based on the mixture model of the R package SCEPTRE, a Poisson mixture model is fit to the UMI counts per gRNA including additional covariates, which in our implementation are the sequencing depth and batch effects."
   ]
  },
  {
   "cell_type": "code",
   "execution_count": 13,
   "id": "00e7edcb",
   "metadata": {},
   "outputs": [
    {
     "name": "stdout",
     "output_type": "stream",
     "text": [
      "Guide assignment based on SCEPTRE Poisson mixture model\n",
      "Load gRNA counts\n",
      "Fit SCEPTRE Poisson Model for each gRNA\n",
      "5 parallel processes used\n",
      "Done: outputs are saved in ../example_data/guide_assignments/poisson/\n"
     ]
    }
   ],
   "source": [
    "# Guide assignment with Poisson mixture model\n",
    "crispat.ga_poisson(data_dir + 'Schraivogel/gRNA_counts.h5ad', \n",
    "           data_dir + 'guide_assignments/poisson/',\n",
    "           start_gRNA = 0, gRNA_step = 5)"
   ]
  },
  {
   "cell_type": "markdown",
   "id": "4ecba395",
   "metadata": {},
   "source": [
    "`ga_negative_binomial` is an adaption of SCEPTRE in which a Negative Binomial distribution is used instead of the Poisson distribution such that an additional overdispersion parameter is learned. "
   ]
  },
  {
   "cell_type": "code",
   "execution_count": 14,
   "id": "0f3609ce",
   "metadata": {},
   "outputs": [
    {
     "name": "stdout",
     "output_type": "stream",
     "text": [
      "Load gRNA counts data\n",
      "Fit Negative Binomial Model for each gRNA\n",
      "5 parallel processes used\n",
      "Done: outputs are saved in ../example_data/guide_assignments/negative_binomial/\n"
     ]
    }
   ],
   "source": [
    "# Guide assignment with negative binomial model\n",
    "crispat.ga_negative_binomial(data_dir + 'Schraivogel/gRNA_counts.h5ad',\n",
    "                     data_dir + 'guide_assignments/negative_binomial/',\n",
    "                     start_gRNA = 0, gRNA_step = 5)"
   ]
  },
  {
   "cell_type": "markdown",
   "id": "f78d7e6d",
   "metadata": {},
   "source": [
    "In `ga_binomial`, a Binomial distribution is used to model the UMI counts distribution. Two parameters are needed to define a Binomial distribution. The first parameter here is the number of total gRNA counts of a cell and the second parameter is a gRNA-specific probability function depending on the perturbation state and the batch of a cell."
   ]
  },
  {
   "cell_type": "code",
   "execution_count": 15,
   "id": "2639b29c",
   "metadata": {},
   "outputs": [
    {
     "name": "stdout",
     "output_type": "stream",
     "text": [
      "Guide assignment fitting a binomial model\n",
      "Load gRNA counts\n",
      "Fit Binomial Model for each gRNA\n",
      "5 parallel processes used\n",
      "Done: outputs are saved in ../example_data/guide_assignments/binomial_test/\n",
      "Guide assignment fitting a binomial model\n",
      "Load gRNA counts\n",
      "Fit Binomial Model for each gRNA\n",
      "5 parallel processes used\n",
      "Done: outputs are saved in ../example_data/guide_assignments/binomial_test/\n"
     ]
    }
   ],
   "source": [
    "# Guide assignment with binomial model\n",
    "crispat.ga_binomial(data_dir + 'Schraivogel/gRNA_counts.h5ad',  \n",
    "            data_dir + 'guide_assignments/binomial_test/',\n",
    "            start_gRNA = 0, gRNA_step = 5)\n",
    "\n",
    "crispat.ga_binomial(data_dir + 'Schraivogel/gRNA_counts.h5ad',  \n",
    "            data_dir + 'guide_assignments/binomial_test/',\n",
    "            start_gRNA = 5, gRNA_step = 5)"
   ]
  },
  {
   "cell_type": "markdown",
   "id": "455bf27b",
   "metadata": {},
   "source": [
    "In `ga_quantiles`, the UMI counts are first normalized per cell by dividing by the total gRNA counts per cell. Next, for each gRNA X% of cells with non-zero counts for this gRNA with highest ratios are assigned. A list of ratios X to use has to be provided as one argument of the function."
   ]
  },
  {
   "cell_type": "code",
   "execution_count": 16,
   "id": "a99f1128",
   "metadata": {},
   "outputs": [
    {
     "name": "stdout",
     "output_type": "stream",
     "text": [
      "Load gRNA counts data\n",
      "Get cells with highest ratios per gRNA\n",
      "Done: outputs are saved in ../example_data/guide_assignments/quantiles/\n"
     ]
    }
   ],
   "source": [
    "# Guide assignment with quantiles approach\n",
    "crispat.ga_quantiles(data_dir + 'Schraivogel/gRNA_counts.h5ad', [0.1, 0.35], \n",
    "             data_dir + 'guide_assignments/quantiles/')"
   ]
  },
  {
   "cell_type": "markdown",
   "id": "d583fa50",
   "metadata": {},
   "source": [
    "# Method comparison"
   ]
  },
  {
   "cell_type": "markdown",
   "id": "f08d3ecc",
   "metadata": {},
   "source": [
    "In case some of the methods were manually run on distinct gRNA subsets, we provide the function `combine_assignments` to combine the outputs into one csv file. "
   ]
  },
  {
   "cell_type": "code",
   "execution_count": 17,
   "id": "6e329389",
   "metadata": {},
   "outputs": [],
   "source": [
    "crispat.combine_assignments(data_dir + 'guide_assignments/binomial_test/')"
   ]
  },
  {
   "cell_type": "markdown",
   "id": "6038a969",
   "metadata": {},
   "source": [
    "After running all guide assignment methods of interest, we can create a data frame which contains all gRNA cell assignments per method and filter for cells that got exactly one gRNA assigned. "
   ]
  },
  {
   "cell_type": "code",
   "execution_count": 18,
   "id": "bd046563",
   "metadata": {},
   "outputs": [],
   "source": [
    "# Create dictionary with user-chosen method names as keys and a list of the directory name and threshold as values\n",
    "ga_dict = {'2-Beta': ['2-BetaMM', None],\n",
    "           '3-Beta': ['3-BetaMM', None],\n",
    "           'Binomial': ['binomial', None], \n",
    "           'Cell Ranger': ['cellranger', None], \n",
    "           'Maximum': ['maximum', None], \n",
    "           'Negative Binomial': ['negative_binomial', None], \n",
    "           'Poisson': ['poisson', None],\n",
    "           'Poisson-Gauss': ['poisson_gauss', None], \n",
    "           'UMI_t7': ['UMI', 7],\n",
    "           'ratio_50%': ['ratios', 0.5],\n",
    "           'top_35%_cells': ['quantiles', 0.35]}\n",
    "\n",
    "perturbations = crispat.load_assignments(ga_dict, data_dir + 'guide_assignments/')\n",
    "\n",
    "# Filter for cells with single gRNA assigned\n",
    "single_perturbations = perturbations.groupby(['method', 'cell']).filter(lambda x: len(x) == 1)\n",
    "single_perturbations.to_csv(data_dir+'guide_assignments/single_assignments_all_methods.csv', index = False)"
   ]
  },
  {
   "cell_type": "code",
   "execution_count": 19,
   "id": "7a0d0cc8",
   "metadata": {},
   "outputs": [
    {
     "data": {
      "text/html": [
       "<div>\n",
       "<style scoped>\n",
       "    .dataframe tbody tr th:only-of-type {\n",
       "        vertical-align: middle;\n",
       "    }\n",
       "\n",
       "    .dataframe tbody tr th {\n",
       "        vertical-align: top;\n",
       "    }\n",
       "\n",
       "    .dataframe thead th {\n",
       "        text-align: right;\n",
       "    }\n",
       "</style>\n",
       "<table border=\"1\" class=\"dataframe\">\n",
       "  <thead>\n",
       "    <tr style=\"text-align: right;\">\n",
       "      <th></th>\n",
       "      <th>cell</th>\n",
       "      <th>gRNA</th>\n",
       "      <th>method</th>\n",
       "    </tr>\n",
       "  </thead>\n",
       "  <tbody>\n",
       "    <tr>\n",
       "      <th>0</th>\n",
       "      <td>TAP1-AAACCTGAGGCGTACA</td>\n",
       "      <td>CROPseq_dCas9_DS_CPQ_+_97657557.23-P1P2</td>\n",
       "      <td>2-Beta</td>\n",
       "    </tr>\n",
       "    <tr>\n",
       "      <th>1</th>\n",
       "      <td>TAP1-AAACCTGAGGGCTTGA</td>\n",
       "      <td>CROPseq_dCas9_DS_MYC-D</td>\n",
       "      <td>2-Beta</td>\n",
       "    </tr>\n",
       "    <tr>\n",
       "      <th>2</th>\n",
       "      <td>TAP1-AAACCTGAGGGTGTTG</td>\n",
       "      <td>CROPseq_dCas9_DS_PHF20L1_-_133787636-P1P2</td>\n",
       "      <td>2-Beta</td>\n",
       "    </tr>\n",
       "    <tr>\n",
       "      <th>3</th>\n",
       "      <td>TAP1-AAACCTGAGGTGCTAG</td>\n",
       "      <td>CROPseq_dCas9_DS_LRRCC1_+_86019483.23-P1P2</td>\n",
       "      <td>2-Beta</td>\n",
       "    </tr>\n",
       "    <tr>\n",
       "      <th>4</th>\n",
       "      <td>TAP1-AAACCTGAGTGCGTGA</td>\n",
       "      <td>CROPseq_dCas9_DS_HS2-B</td>\n",
       "      <td>2-Beta</td>\n",
       "    </tr>\n",
       "  </tbody>\n",
       "</table>\n",
       "</div>"
      ],
      "text/plain": [
       "                    cell                                        gRNA  method\n",
       "0  TAP1-AAACCTGAGGCGTACA     CROPseq_dCas9_DS_CPQ_+_97657557.23-P1P2  2-Beta\n",
       "1  TAP1-AAACCTGAGGGCTTGA                      CROPseq_dCas9_DS_MYC-D  2-Beta\n",
       "2  TAP1-AAACCTGAGGGTGTTG   CROPseq_dCas9_DS_PHF20L1_-_133787636-P1P2  2-Beta\n",
       "3  TAP1-AAACCTGAGGTGCTAG  CROPseq_dCas9_DS_LRRCC1_+_86019483.23-P1P2  2-Beta\n",
       "4  TAP1-AAACCTGAGTGCGTGA                      CROPseq_dCas9_DS_HS2-B  2-Beta"
      ]
     },
     "execution_count": 19,
     "metadata": {},
     "output_type": "execute_result"
    }
   ],
   "source": [
    "# resulting assignments of various methods\n",
    "single_perturbations.head()"
   ]
  },
  {
   "cell_type": "markdown",
   "id": "83e2e8f5",
   "metadata": {},
   "source": [
    "## Number of assigned cells and intersection heatmap\n",
    "\n",
    "To compare the assignments with each other, crispat contains the function `plot_intersection_heatmap` which creates two figures next to each other. On the left, a heatmap of the pairwise overlap of assignments divided by the number of assignments from the method shown in the row is plotted. On the right, the number of cells with single assignments is shown and the y-axis of both plots is sorted according to an increasing number of assigned cells."
   ]
  },
  {
   "cell_type": "code",
   "execution_count": 20,
   "id": "ef06bfd3",
   "metadata": {},
   "outputs": [
    {
     "data": {
      "image/png": "[encoded data removed]",
      "text/plain": [
       "<Figure size 1400x500 with 3 Axes>"
      ]
     },
     "metadata": {},
     "output_type": "display_data"
    }
   ],
   "source": [
    "# Dictionary of colors to use for the barplot on the right (optional argument, otherwise default colors are used)\n",
    "colors = {'UMI_t7': \"#E6AB02\", 'Maximum': \"#9ace25\", 'ratio_50%': \"#00d360\", \n",
    "          '2-Beta': \"#20ba94\", '3-Beta': \"#009500\", 'Cell Ranger': \"#06cdff\",\n",
    "          'Poisson-Gauss': \"#06A4FF\", 'Poisson': \"#F8766D\", 'Negative Binomial': \"#FF66A8\", \n",
    "          'Binomial': \"#FB61D7\", 'top_35%_cells': \"#DF70F8\"}\n",
    "\n",
    "crispat.plot_intersection_heatmap(single_perturbations, colors)"
   ]
  },
  {
   "cell_type": "markdown",
   "id": "e508f403",
   "metadata": {},
   "source": [
    "## Effects on downstream analyses"
   ]
  },
  {
   "cell_type": "markdown",
   "id": "da9fceab",
   "metadata": {},
   "source": [
    "To investigate the consequences of the assignment differences for discovery analysis, the assignments from crispat can serve as input to different differential expression tests. For the analysis shown in our paper, we use the crispat output as an input for the R package [SCEPTRE](https://timothy-barry.github.io/sceptre-book/sceptre.html), which is tailored to single-cell CRISPR screen analysis and combines multiple analyses and control checks in a statistical rigorous fashion. First, SCEPTRE calculates the log2 fold changes and p-values for the target genes (power check). Next, it calculates the number of false discoveries which are genes that are significantly differentially expressed comparing the cells of one non-targeting gRNA against all other non-targeting control cells (calibration). And finally, it calculates the differentially expressed genes for each perturbation (discovery analysis). The script [SCEPTRE_discovery.R](https://github.com/velten-group/crispat/blob/main/tutorials/downstream_analyses/SCEPTRE_discovery.R) shows how to input your own assignment into SCEPTRE to use this pipeline. The SCEPTRE package also allows to include any covariates of interest such as cell cycle scores. In this tutorial, we are showing how `scanpy` can be used to identify genes that are differentially expressed in perturbed compared to non-targeting control cells and compare their number across guide assignment methods. However, use this option with caution since we here do not account for any covariates and we strongly recommend to use SCEPTRE instead."
   ]
  },
  {
   "cell_type": "code",
   "execution_count": 21,
   "id": "8a5b2077",
   "metadata": {},
   "outputs": [],
   "source": [
    "# Load gene expression data of the CRISPR screen\n",
    "adata = sc.read_csv(data_dir + 'Schraivogel/gene_expression_counts.csv')\n",
    "\n",
    "# Preprocessing with scanpy\n",
    "sc.pp.filter_genes(adata, min_cells=3)\n",
    "sc.pp.normalize_total(adata, target_sum=1e4)\n",
    "sc.pp.log1p(adata)\n",
    "sc.pp.scale(adata, max_value=10)\n",
    "\n",
    "# add target gene names to the assignments\n",
    "single_perturbations['target'] = single_perturbations['gRNA'].str.split('_').str[3]"
   ]
  },
  {
   "cell_type": "code",
   "execution_count": 22,
   "id": "b75665f8",
   "metadata": {},
   "outputs": [],
   "source": [
    "def get_n_discoveries(adata, assignments, ga_method, perturbed_gene):\n",
    "    # add assignments of selected method to the anndata object\n",
    "    assignment = assignments.loc[assignments['method'] == ga_method, \n",
    "                                 ['cell', 'target']].set_index('cell')\n",
    "    adata_ga = adata.copy()\n",
    "    adata_ga.obs = adata_ga.obs.join(assignment)\n",
    "    adata_ga = adata_ga[adata_ga.obs['target'].notna(), :] # remove unassigend cells\n",
    "\n",
    "    # differentially expression testing for selected perturbation against the control cells\n",
    "    with warnings.catch_warnings():\n",
    "        warnings.simplefilter(\"ignore\")\n",
    "        sc.tl.rank_genes_groups(adata_ga, groupby = 'target', groups = [perturbed_gene], \n",
    "                                reference = 'non-targeting', method = 't-test')\n",
    "    results_df = sc.get.rank_genes_groups_df(adata_ga, group=perturbed_gene)\n",
    "    results_df = results_df.loc[results_df['pvals_adj'] < 0.05, :]\n",
    "    n_discoveries = results_df.shape[0]\n",
    "    \n",
    "    return n_discoveries"
   ]
  },
  {
   "cell_type": "code",
   "execution_count": 23,
   "id": "cfa8f7ce",
   "metadata": {},
   "outputs": [],
   "source": [
    "# Differential expression testing for one example perturbation\n",
    "perturbed_gene = 'CCNE2' \n",
    "discovery_analysis = pd.DataFrame({'method': single_perturbations.method.unique()})\n",
    "discovery_analysis['n_discoveries'] = [get_n_discoveries(adata, single_perturbations, \n",
    "                                                         ga_method, perturbed_gene) \n",
    "                                       for ga_method in single_perturbations.method.unique()]\n",
    "\n",
    "# add number of assigned cells\n",
    "n_cells = single_perturbations.groupby('method').size().reset_index(name = 'n_cells')\n",
    "discovery_analysis = discovery_analysis.merge(n_cells, on = 'method')"
   ]
  },
  {
   "cell_type": "code",
   "execution_count": 24,
   "id": "4e3b7617",
   "metadata": {},
   "outputs": [
    {
     "data": {
      "image/png": "[encoded data removed]",
      "text/plain": [
       "<Figure size 400x300 with 1 Axes>"
      ]
     },
     "metadata": {},
     "output_type": "display_data"
    }
   ],
   "source": [
    "# plot the results\n",
    "plt.figure(figsize = (4,3))\n",
    "sns.scatterplot(data = discovery_analysis, x = \"n_cells\", y = \"n_discoveries\", hue = \"method\", palette = colors)\n",
    "plt.ylabel('Number of total discoveries')\n",
    "plt.xlabel('Number of assigned cells')\n",
    "plt.legend(bbox_to_anchor=(1.7, 0.5), loc='center right')\n",
    "plt.title('Discoveries for ' + perturbed_gene + ' perturbation')\n",
    "plt.show()"
   ]
  },
  {
   "cell_type": "code",
   "execution_count": null,
   "id": "8834c27a",
   "metadata": {},
   "outputs": [],
   "source": []
  }
 ],
 "metadata": {
  "kernelspec": {
   "display_name": "Python 3 (ipykernel)",
   "language": "python",
   "name": "python3"
  },
  "language_info": {
   "codemirror_mode": {
    "name": "ipython",
    "version": 3
   },
   "file_extension": ".py",
   "mimetype": "text/x-python",
   "name": "python",
   "nbconvert_exporter": "python",
   "pygments_lexer": "ipython3",
   "version": "3.10.8"
  },
  "toc": {
   "base_numbering": 1,
   "nav_menu": {},
   "number_sections": true,
   "sideBar": true,
   "skip_h1_title": false,
   "title_cell": "Table of Contents",
   "title_sidebar": "Contents",
   "toc_cell": false,
   "toc_position": {},
   "toc_section_display": true,
   "toc_window_display": false
  }
 },
 "nbformat": 4,
 "nbformat_minor": 5
}
