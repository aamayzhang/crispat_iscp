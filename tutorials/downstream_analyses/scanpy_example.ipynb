{
 "cells": [
  {
   "cell_type": "code",
   "execution_count": 1,
   "id": "4311c38b",
   "metadata": {},
   "outputs": [],
   "source": [
    "import crispat\n",
    "import pandas as pd\n",
    "import matplotlib.pyplot as plt\n",
    "import seaborn as sns\n",
    "import scanpy as sc\n",
    "import warnings\n",
    "import time"
   ]
  },
  {
   "cell_type": "code",
   "execution_count": 2,
   "id": "407a7255",
   "metadata": {},
   "outputs": [],
   "source": [
    "data_dir = '../../example_data/'"
   ]
  },
  {
   "cell_type": "markdown",
   "id": "00672b32",
   "metadata": {},
   "source": [
    "To use the `crispat` assignments with `scanpy`, the following inputs are needed: \n",
    "- processed gene expression data: preprocessing of gene expression counts can e.g. be done with scanpy (filtering of cells, normalization, log-transformation, z-scoring etc.)\n",
    "- cell-gRNA assignments for various methods obtained by crispat: for this we read in the file 'single_assignments_all_methods.csv' that we created in our [guide assignment tutorial](https://github.com/velten-group/crispat/blob/main/tutorials/guide_assignment.ipynb).\n",
    "- information about the target gene of each gRNA"
   ]
  },
  {
   "cell_type": "code",
   "execution_count": 11,
   "id": "0c95fb65",
   "metadata": {},
   "outputs": [],
   "source": [
    "# Load and preprocess gene expression data of the CRISPR screen\n",
    "adata = sc.read_csv(data_dir + 'Schraivogel/gene_expression_counts.csv')\n",
    "sc.pp.filter_genes(adata, min_cells=3)\n",
    "sc.pp.normalize_total(adata, target_sum=1e4)\n",
    "sc.pp.log1p(adata)\n",
    "sc.pp.scale(adata, max_value=10)\n",
    "\n",
    "# Read in assignments for various methods as obtained by crispat\n",
    "assignments = pd.read_csv(data_dir+'guide_assignments/single_assignments_all_methods.csv')\n",
    "assignments.loc[assignments['gRNA'].str.contains('non-targeting'), 'gRNA'] = 'non-targeting'"
   ]
  },
  {
   "cell_type": "code",
   "execution_count": 12,
   "id": "8d1a7c96",
   "metadata": {},
   "outputs": [
    {
     "data": {
      "text/html": [
       "<div>\n",
       "<style scoped>\n",
       "    .dataframe tbody tr th:only-of-type {\n",
       "        vertical-align: middle;\n",
       "    }\n",
       "\n",
       "    .dataframe tbody tr th {\n",
       "        vertical-align: top;\n",
       "    }\n",
       "\n",
       "    .dataframe thead th {\n",
       "        text-align: right;\n",
       "    }\n",
       "</style>\n",
       "<table border=\"1\" class=\"dataframe\">\n",
       "  <thead>\n",
       "    <tr style=\"text-align: right;\">\n",
       "      <th></th>\n",
       "      <th>cell</th>\n",
       "      <th>gRNA</th>\n",
       "      <th>method</th>\n",
       "    </tr>\n",
       "  </thead>\n",
       "  <tbody>\n",
       "    <tr>\n",
       "      <th>0</th>\n",
       "      <td>TAP1-AAACCTGAGGCGTACA</td>\n",
       "      <td>CROPseq_dCas9_DS_CPQ_+_97657557.23-P1P2</td>\n",
       "      <td>2-Beta</td>\n",
       "    </tr>\n",
       "    <tr>\n",
       "      <th>1</th>\n",
       "      <td>TAP1-AAACCTGAGGGCTTGA</td>\n",
       "      <td>CROPseq_dCas9_DS_MYC-D</td>\n",
       "      <td>2-Beta</td>\n",
       "    </tr>\n",
       "    <tr>\n",
       "      <th>2</th>\n",
       "      <td>TAP1-AAACCTGAGGGTGTTG</td>\n",
       "      <td>CROPseq_dCas9_DS_PHF20L1_-_133787636-P1P2</td>\n",
       "      <td>2-Beta</td>\n",
       "    </tr>\n",
       "    <tr>\n",
       "      <th>3</th>\n",
       "      <td>TAP1-AAACCTGAGGTGCTAG</td>\n",
       "      <td>CROPseq_dCas9_DS_LRRCC1_+_86019483.23-P1P2</td>\n",
       "      <td>2-Beta</td>\n",
       "    </tr>\n",
       "    <tr>\n",
       "      <th>4</th>\n",
       "      <td>TAP1-AAACCTGAGTGCGTGA</td>\n",
       "      <td>CROPseq_dCas9_DS_HS2-B</td>\n",
       "      <td>2-Beta</td>\n",
       "    </tr>\n",
       "  </tbody>\n",
       "</table>\n",
       "</div>"
      ],
      "text/plain": [
       "                    cell                                        gRNA  method\n",
       "0  TAP1-AAACCTGAGGCGTACA     CROPseq_dCas9_DS_CPQ_+_97657557.23-P1P2  2-Beta\n",
       "1  TAP1-AAACCTGAGGGCTTGA                      CROPseq_dCas9_DS_MYC-D  2-Beta\n",
       "2  TAP1-AAACCTGAGGGTGTTG   CROPseq_dCas9_DS_PHF20L1_-_133787636-P1P2  2-Beta\n",
       "3  TAP1-AAACCTGAGGTGCTAG  CROPseq_dCas9_DS_LRRCC1_+_86019483.23-P1P2  2-Beta\n",
       "4  TAP1-AAACCTGAGTGCGTGA                      CROPseq_dCas9_DS_HS2-B  2-Beta"
      ]
     },
     "execution_count": 12,
     "metadata": {},
     "output_type": "execute_result"
    }
   ],
   "source": [
    "assignments.head()"
   ]
  },
  {
   "cell_type": "markdown",
   "id": "667e86f2",
   "metadata": {},
   "source": [
    "In the following, we demonstrate how `sc.tl.rank_genes_groups` can be used to test for differential expression between perturbed cells and control cells. More information about this scanpy function can be found [here](https://scanpy.readthedocs.io/en/stable/generated/scanpy.tl.rank_genes_groups.html). For demonstration purposes, we selected one perturbation/target gene only ('CCNE2')."
   ]
  },
  {
   "cell_type": "code",
   "execution_count": 18,
   "id": "87bf6837",
   "metadata": {},
   "outputs": [],
   "source": [
    "def get_n_discoveries(adata, assignments, ga_method, perturbation):\n",
    "    # add assignments of selected method to the anndata object\n",
    "    assignment = assignments.loc[assignments['method'] == ga_method, \n",
    "                                 ['cell', 'gRNA']].set_index('cell')\n",
    "    adata_ga = adata.copy()\n",
    "    adata_ga.obs = adata_ga.obs.join(assignment)\n",
    "    adata_ga = adata_ga[adata_ga.obs['gRNA'].notna(), :] # remove unassigend cells\n",
    "\n",
    "    # differentially expression testing for selected perturbation against the control cells\n",
    "    with warnings.catch_warnings():\n",
    "        warnings.simplefilter(\"ignore\")\n",
    "        sc.tl.rank_genes_groups(adata_ga, groupby = 'gRNA', groups = [perturbation], \n",
    "                                reference = 'non-targeting', method = 't-test')\n",
    "    results_df = sc.get.rank_genes_groups_df(adata_ga, group=perturbation)\n",
    "    results_df = results_df.loc[results_df['pvals_adj'] < 0.05, :]\n",
    "    n_discoveries = results_df.shape[0]\n",
    "    \n",
    "    return n_discoveries"
   ]
  },
  {
   "cell_type": "code",
   "execution_count": 19,
   "id": "058ddcc7",
   "metadata": {},
   "outputs": [
    {
     "name": "stdout",
     "output_type": "stream",
     "text": [
      "Run time for differential expression analysis:  14.77 s\n"
     ]
    }
   ],
   "source": [
    "# Differential expression testing for each targeting gRNA\n",
    "start = time.time()\n",
    "targeting_gRNAs = [grna for grna in assignments.gRNA.unique() if grna != 'non-targeting']\n",
    "combinations = [(method, grna) for method in assignments.method.unique() \n",
    "                for grna in targeting_gRNAs]\n",
    "discovery_analysis = pd.DataFrame(combinations, columns=['method', 'gRNA'])\n",
    "\n",
    "n_discoveries = []\n",
    "for index, row in discovery_analysis.iterrows():\n",
    "    discoveries = get_n_discoveries(adata, assignments, row['method'], row['gRNA'])\n",
    "    n_discoveries.append(discoveries)\n",
    "    \n",
    "discovery_analysis['n_discoveries'] = n_discoveries\n",
    "# sum discoveries over all perturbations\n",
    "discovery_analysis = discovery_analysis.groupby(\"method\").sum(n_discoveries)\n",
    "\n",
    "# add number of assigned cells\n",
    "n_cells = assignments.groupby('method').size().reset_index(name = 'n_cells')\n",
    "discovery_analysis = discovery_analysis.merge(n_cells, on = 'method')\n",
    "end = time.time()\n",
    "print(\"Run time for differential expression analysis: \", round(end-start,2), \"s\")"
   ]
  },
  {
   "cell_type": "code",
   "execution_count": 20,
   "id": "29cbe358",
   "metadata": {},
   "outputs": [
    {
     "data": {
      "image/png": "[encoded data removed]",
      "text/plain": [
       "<Figure size 400x300 with 1 Axes>"
      ]
     },
     "metadata": {},
     "output_type": "display_data"
    }
   ],
   "source": [
    "# plot the results\n",
    "plt.figure(figsize = (4,3))\n",
    "sns.scatterplot(data = discovery_analysis, x = \"n_cells\", y = \"n_discoveries\", hue = \"method\")\n",
    "plt.ylabel('Number of total discoveries')\n",
    "plt.xlabel('Number of assigned cells')\n",
    "plt.legend(bbox_to_anchor=(1.7, 0.5), loc='center right')\n",
    "plt.show()"
   ]
  },
  {
   "cell_type": "markdown",
   "id": "ff9d661a",
   "metadata": {},
   "source": [
    "**Note:** this differs from the results show in our paper as we here calculate the discoveries per perturbation, whereas in the analysis of our paper we did the differential expression test separately for each gRNA instead of combining the four gRNAs with the same target. Additionally, SCEPTRE has been used for the analysis shown in the paper with additional covariates such as total gRNA and mRNA counts per cell."
   ]
  },
  {
   "cell_type": "code",
   "execution_count": null,
   "id": "faabc6ee",
   "metadata": {},
   "outputs": [],
   "source": []
  }
 ],
 "metadata": {
  "kernelspec": {
   "display_name": "Python 3 (ipykernel)",
   "language": "python",
   "name": "python3"
  },
  "language_info": {
   "codemirror_mode": {
    "name": "ipython",
    "version": 3
   },
   "file_extension": ".py",
   "mimetype": "text/x-python",
   "name": "python",
   "nbconvert_exporter": "python",
   "pygments_lexer": "ipython3",
   "version": "3.10.8"
  },
  "toc": {
   "base_numbering": 1,
   "nav_menu": {},
   "number_sections": true,
   "sideBar": true,
   "skip_h1_title": false,
   "title_cell": "Table of Contents",
   "title_sidebar": "Contents",
   "toc_cell": false,
   "toc_position": {},
   "toc_section_display": true,
   "toc_window_display": false
  }
 },
 "nbformat": 4,
 "nbformat_minor": 5
}
